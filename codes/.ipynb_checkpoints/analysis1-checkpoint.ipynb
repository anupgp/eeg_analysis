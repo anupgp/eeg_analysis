{
 "cells": [
  {
   "cell_type": "code",
   "execution_count": 1,
   "id": "higher-buffer",
   "metadata": {},
   "outputs": [],
   "source": [
    "import pyedflib\n",
    "import numpy as np\n",
    "import sys\n",
    "import os\n",
    "from matplotlib import pyplot as plt\n",
    "%matplotlib widget\n",
    "from sklearn.decomposition import FastICA"
   ]
  },
  {
   "cell_type": "code",
   "execution_count": 2,
   "id": "0fca5292-3999-4b44-9e22-5f321ba044e9",
   "metadata": {},
   "outputs": [],
   "source": [
    "def load_eegdata(fname):\n",
    "    print(fname)\n",
    "    with pyedflib.EdfReader(fname) as f:\n",
    "        header = f.getHeader()\n",
    "        filedur = f.getFileDuration()\n",
    "        nsamples = f.getNSamples()\n",
    "        nchannels = f.signals_in_file-3\n",
    "        prefilter = f.getPrefilter(0)\n",
    "        samplefreqs = f.getSampleFrequencies()[0:-3]\n",
    "        channels = f.getSignalLabels()[0:-3]\n",
    "        datetime = f.getStartdatetime()\n",
    "        dd = np.zeros((nsamples[0],nchannels))\n",
    "        for i in np.arange(nchannels):\n",
    "            dd[:,i] = f.readSignal(i)\n",
    "#        }\n",
    "#   }\n",
    "    print(nchannels)\n",
    "    print(channels)\n",
    "    print(nsamples)\n",
    "    print(header)\n",
    "    print(dd.shape)\n",
    "    return(dd,samplefreqs,channels)\n",
    "\n",
    "\n",
    "def eegplot(dd,sf,channels):\n",
    "    nsamples = dd.shape[0]\n",
    "    nchannels = dd.shape[1]\n",
    "    t = np.arange(0,nsamples)/sf\n",
    "    fh, ah = plt.subplots(nrows=nchannels, sharex=True,squeeze = True)\n",
    "    for i in np.arange(0,nchannels):\n",
    "        ah[i].plot(t,dd[:,i])\n",
    "        ah[i].spines['right'].set_visible(False)\n",
    "        ah[i].spines['top'].set_visible(False)\n",
    "        ah[i].spines['bottom'].set_visible(False)\n",
    "        ah[i].set_title(channels[i])\n",
    "#   }\n",
    "    ah[-1].spines['bottom'].set_visible(True)\n",
    "    fh.tight_layout()\n",
    "    fh.subplots_adjust(top=0.9) \n"
   ]
  },
  {
   "cell_type": "code",
   "execution_count": 1,
   "id": "3e281b0f-b17d-424e-8246-b744ef539e88",
   "metadata": {},
   "outputs": [
    {
     "name": "stdout",
     "output_type": "stream",
     "text": [
      "nedc@www.isip.piconepress.com's password: \n",
      "rsync error: received SIGINT, SIGTERM, or SIGHUP (code 20) at rsync.c(642) [Receiver=3.1.3]\n"
     ]
    }
   ],
   "source": [
    "!rsync -auxvL nedc@www.isip.piconepress.com:data/eeg/tuh_eeg_seizure/v1.5.2/edf/01_tcp_er/006/ . \n",
    "#!rsync -auxvL https://isip.piconepress.com/projects/tuh_eeg/downloads/tuh_eeg/v1.1.0/edf/01_tcp_ar/006/ ."
   ]
  },
  {
   "cell_type": "code",
   "execution_count": 23,
   "id": "designing-prayer",
   "metadata": {},
   "outputs": [
    {
     "name": "stdout",
     "output_type": "stream",
     "text": [
      "['00000647_s002_t000.edf', '00000647_s002.txt']\n",
      "/run/media/anup/7d0f1bd4-7154-4473-aff4-60bda7bce080/eeg/edf/eval/normal/01_tcp_ar/006/00000647/s002_2009_09_21/00000647_s002_t000.edf\n",
      "/run/media/anup/7d0f1bd4-7154-4473-aff4-60bda7bce080/eeg/edf/eval/normal/01_tcp_ar/006/00000647/s002_2009_09_21/00000647_s002_t000.edf\n",
      "33\n",
      "['EEG FP1-REF', 'EEG FP2-REF', 'EEG F3-REF', 'EEG F4-REF', 'EEG C3-REF', 'EEG C4-REF', 'EEG P3-REF', 'EEG P4-REF', 'EEG O1-REF', 'EEG O2-REF', 'EEG F7-REF', 'EEG F8-REF', 'EEG T3-REF', 'EEG T4-REF', 'EEG T5-REF', 'EEG T6-REF', 'EEG A1-REF', 'EEG A2-REF', 'EEG FZ-REF', 'EEG CZ-REF', 'EEG PZ-REF', 'EEG ROC-REF', 'EEG LOC-REF', 'EEG EKG1-REF', 'EMG-REF', 'EEG 26-REF', 'EEG 27-REF', 'EEG 28-REF', 'EEG 29-REF', 'EEG 30-REF', 'EEG T1-REF', 'EEG T2-REF', 'PHOTIC-REF']\n",
      "[300500 300500 300500 300500 300500 300500 300500 300500 300500 300500\n",
      " 300500 300500 300500 300500 300500 300500 300500 300500 300500 300500\n",
      " 300500 300500 300500 300500 300500 300500 300500 300500 300500 300500\n",
      " 300500 300500 300500   1202   1202   1202]\n",
      "{'technician': '', 'recording_additional': '', 'patientname': '', 'patient_additional': '', 'patientcode': '', 'equipment': '', 'admincode': '', 'gender': '', 'startdate': datetime.datetime(2009, 9, 21, 9, 32, 15), 'birthdate': ''}\n",
      "(300500, 33)\n"
     ]
    }
   ],
   "source": [
    "datapath1 = \"/run/media/anup/7d0f1bd4-7154-4473-aff4-60bda7bce080/eeg/edf/\"\n",
    "datapath2 = \"eval/normal/01_tcp_ar/006/00000647/s002_2009_09_21\"\n",
    "\n",
    "\"https://isip.piconepress.com/projects/tuh_eeg/downloads/tuh_eeg/v1.1.0/edf/01_tcp_ar/006/\"\n",
    "print(os.listdir(os.path.join(datapath1,datapath2)))\n",
    "fname = '00000647_s002_t000.edf'\n",
    "fullname = os.path.join(datapath1,datapath2,fname)\n",
    "print(fullname)\n",
    "dd,fs,channels = load_eegdata(fullname)\n",
    "# eegplot(dd[:,0:8],si,channels[0:8])\n",
    "# ica = FastICA(n_components=33,random_state=0)\n",
    "# S_ = ica.fit_transform(dd)\n",
    "# A_ = ica.mixing_\n",
    "# print(X_t.shape)\n",
    "# eegplot(X_t[:,0:8],si,channels[0:8])\n",
    "# print(A_.shape)"
   ]
  },
  {
   "cell_type": "code",
   "execution_count": 24,
   "id": "medium-robinson",
   "metadata": {},
   "outputs": [
    {
     "ename": "NameError",
     "evalue": "name 'f' is not defined",
     "output_type": "error",
     "traceback": [
      "\u001b[0;31m---------------------------------------------------------------------------\u001b[0m",
      "\u001b[0;31mNameError\u001b[0m                                 Traceback (most recent call last)",
      "\u001b[0;32m<ipython-input-24-a7c089fd3b3b>\u001b[0m in \u001b[0;36m<module>\u001b[0;34m\u001b[0m\n\u001b[0;32m----> 1\u001b[0;31m \u001b[0mn\u001b[0m \u001b[0;34m=\u001b[0m \u001b[0mf\u001b[0m\u001b[0;34m.\u001b[0m\u001b[0msignals_in_file\u001b[0m\u001b[0;34m\u001b[0m\u001b[0;34m\u001b[0m\u001b[0m\n\u001b[0m\u001b[1;32m      2\u001b[0m \u001b[0;34m\u001b[0m\u001b[0m\n\u001b[1;32m      3\u001b[0m \u001b[0mprint\u001b[0m\u001b[0;34m(\u001b[0m\u001b[0msignal_labels\u001b[0m\u001b[0;34m,\u001b[0m\u001b[0mlen\u001b[0m\u001b[0;34m(\u001b[0m\u001b[0msignal_labels\u001b[0m\u001b[0;34m)\u001b[0m\u001b[0;34m)\u001b[0m\u001b[0;34m\u001b[0m\u001b[0;34m\u001b[0m\u001b[0m\n\u001b[1;32m      4\u001b[0m \u001b[0;34m\u001b[0m\u001b[0m\n\u001b[1;32m      5\u001b[0m \u001b[0mchid\u001b[0m \u001b[0;34m=\u001b[0m \u001b[0;34m[\u001b[0m\u001b[0mi\u001b[0m \u001b[0;32mfor\u001b[0m \u001b[0mi\u001b[0m\u001b[0;34m,\u001b[0m\u001b[0msignal_label\u001b[0m \u001b[0;32min\u001b[0m \u001b[0menumerate\u001b[0m\u001b[0;34m(\u001b[0m\u001b[0msignal_labels\u001b[0m\u001b[0;34m)\u001b[0m \u001b[0;32mif\u001b[0m \u001b[0msignal_label\u001b[0m\u001b[0;34m==\u001b[0m\u001b[0;34m\"EEG O2-REF\"\u001b[0m\u001b[0;34m]\u001b[0m\u001b[0;34m[\u001b[0m\u001b[0;36m0\u001b[0m\u001b[0;34m]\u001b[0m\u001b[0;34m\u001b[0m\u001b[0;34m\u001b[0m\u001b[0m\n",
      "\u001b[0;31mNameError\u001b[0m: name 'f' is not defined"
     ]
    }
   ],
   "source": [
    "n = f.signals_in_file\n",
    "\n",
    "print(signal_labels,len(signal_labels))\n",
    "\n",
    "chid = [i for i,signal_label in enumerate(signal_labels) if signal_label==\"EEG O2-REF\"][0]\n",
    "d = f.readSignal(chid) # chn, start=0, n=None, digital=False\n",
    "# print(filedur)\n",
    "# print(nsamples)\n",
    "# print(prefilter)\n",
    "print(samplefreqs)\n",
    "# print(datetime)\n",
    "# print(d.shape)\n",
    "fh = plt.figure()\n",
    "ah = fh.add_subplot(111)\n",
    "ah.plot(d)\n",
    "plt.show()\n"
   ]
  },
  {
   "cell_type": "code",
   "execution_count": null,
   "id": "323796e6-3a49-4e5d-80f5-dd8fa317bd56",
   "metadata": {},
   "outputs": [],
   "source": [
    "f.close()"
   ]
  },
  {
   "cell_type": "markdown",
   "id": "700849f8-c61e-4b3a-9539-0d0b9a46e403",
   "metadata": {},
   "source": [
    "delta: high amplitude & slow waves. \n",
    "observed during: deep sleep, serioous brain disorders & waking state\n",
    "----------------------\n",
    "theta: amplitude > 20 microV\n",
    "observed during: emotional stress, creative inspiration\n",
    "-------------------\n",
    "alpha: comes from the posterior lobe\n",
    "observed during: eyes closed, relaxed state, intense mental activity,\n",
    "------------------\n",
    "beta: low amplitude comes from both sides of the frontal area\n",
    "observed during: focused, solving concerte problems\n",
    "----------------\n",
    "gamma: high frequency\n",
    "observed during: cognitive and motor functions\n",
    "----------------\n"
   ]
  },
  {
   "cell_type": "code",
   "execution_count": null,
   "id": "55e32595-c9b8-43e0-a196-724d3ad5e495",
   "metadata": {},
   "outputs": [],
   "source": [
    "eegbands = {\"delta\":{\"low\":0.5,\"high\":4},\"theta\":{\"low\":4,\"high\":8},\"alpha\":{\"low\":8,\"high\":13},\"beta\":{\"low\":13,\"high\":30},\\\n",
    "             \"gamma\":{\"low\":30,\"high\":50},\"total\":{\"low\":0.5,\"high\":50}}"
   ]
  },
  {
   "cell_type": "code",
   "execution_count": null,
   "id": "6edeccda-f9ce-4a65-b180-beadd867e667",
   "metadata": {},
   "outputs": [],
   "source": [
    "a = np.random.rand(1000)\n",
    "b = np.random.rand(1000)\n",
    "c = 2.7*a + 10.7*b\n",
    "d = 7.3*b + 30.3*a \n",
    "fh = plt.figure()\n",
    "ah = fh.add_subplot(211)\n",
    "ah.plot(a,b,'o')\n",
    "ah = fh.add_subplot(212)\n",
    "ah.plot(c,d,'o')\n",
    "plt.show()"
   ]
  },
  {
   "cell_type": "code",
   "execution_count": null,
   "id": "5e357b37-4031-4fdc-913d-3a6c16c377d5",
   "metadata": {},
   "outputs": [],
   "source": [
    "from scipy import signal"
   ]
  },
  {
   "cell_type": "code",
   "execution_count": null,
   "id": "17852127-8284-4992-b5f5-fedced54f577",
   "metadata": {},
   "outputs": [],
   "source": [
    "def butter_bandpass(x,fl,fh,fs,order):\n",
    "    fnyq = fs/2\n",
    "    fl = fl/fnyq\n",
    "    fh = fh/fnyq\n",
    "    sos = signal.butter(N=order,Wn=[fl,fh],btype='bandpass',output='sos')\n",
    "    xf = signal.sosfiltfilt(sos,x)\n",
    "    return(xf)\n",
    "\n",
    "def butter_lowpass(x,fl,fs,order):\n",
    "    fnyq = fs/2\n",
    "    fl = fl/fnyq\n",
    "    sos = signal.butter(N=order,Wn=fl,btype='lowpass',output='sos')\n",
    "    xf = signal.sosfiltfilt(sos,x)\n",
    "    return(xf)\n",
    "\n",
    "def butter_highpass(x,fh,fs,order):\n",
    "    fnyq = fs/2\n",
    "    fh = fh/fnyq\n",
    "    sos = signal.butter(N=order,Wn=fh,btype='highpass',output='sos')\n",
    "    xf = signal.sosfiltfilt(sos,x)\n",
    "    return(xf)"
   ]
  },
  {
   "cell_type": "code",
   "execution_count": null,
   "id": "9e4b333d-c2bc-43e4-a44b-5869853f7179",
   "metadata": {},
   "outputs": [],
   "source": [
    "print(dd.shape)\n",
    "t = np.arange(0,dd.shape[0])/fs[0]\n",
    "t.resize(len(t),1)\n",
    "fh = plt.figure()\n",
    "ah = fh.add_subplot(111)\n",
    "ah.plot(t,dd[:,10])\n",
    "xf = butter_bandpass(dd[:,10],0.5,100,fs[0],3)\n",
    "ah.plot(t,xf)"
   ]
  },
  {
   "cell_type": "code",
   "execution_count": null,
   "id": "0bf2c7d0-bf41-4408-90fc-881e9fee5a19",
   "metadata": {},
   "outputs": [],
   "source": [
    "# f,t,Sxx = signal.spectrogram(xf, fs=fs[2],nperseg=200,axis=0)\n",
    "freqband = list(eegbands['theta'].values())\n",
    "channel = 'EEG T1-REF'\n",
    "channelid = [i for i,item in enumerate(channels) if item==channel][0]\n",
    "print(freqband)\n",
    "f,t,Sxx = signal.spectrogram(butter_bandpass(dd[:,channelid],*freqband,fs[0],order=3), fs=fs[2],nperseg=10000,axis=0)\n",
    "fh = plt.figure()\n",
    "ah = fh.add_subplot(111)\n",
    "ah.pcolormesh(t, f, Sxx/np.max(Sxx),shading='nearest',cmap='hot',vmin=0,vmax=0.5)\n",
    "print(Sxx.shape,np.min(Sxx),np.max(Sxx))\n",
    "ah.set_ylim(freqband)\n",
    "print(t.shape)\n",
    "print(f.shape)\n",
    "print(dd.shape)"
   ]
  },
  {
   "cell_type": "code",
   "execution_count": null,
   "id": "4430b2cd-175b-46ec-867b-6d5751ec0154",
   "metadata": {},
   "outputs": [],
   "source": [
    "print(channels)"
   ]
  }
 ],
 "metadata": {
  "kernelspec": {
   "display_name": "Python 3",
   "language": "python",
   "name": "python3"
  },
  "language_info": {
   "codemirror_mode": {
    "name": "ipython",
    "version": 3
   },
   "file_extension": ".py",
   "mimetype": "text/x-python",
   "name": "python",
   "nbconvert_exporter": "python",
   "pygments_lexer": "ipython3",
   "version": "3.6.12"
  }
 },
 "nbformat": 4,
 "nbformat_minor": 5
}
