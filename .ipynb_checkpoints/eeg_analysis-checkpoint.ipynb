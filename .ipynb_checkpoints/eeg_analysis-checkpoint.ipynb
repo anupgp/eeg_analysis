{
 "cells": [
  {
   "cell_type": "code",
   "execution_count": 23,
   "metadata": {},
   "outputs": [],
   "source": [
    "%matplotlib inline\n",
    "import numpy as np                                                                                                     \n",
    "import pandas as pd                                                                                                    \n",
    "import os                                                                                                              \n",
    "from scipy import signal                                                                                               \n",
    "from scipy.integrate import simps                                                                                      \n",
    "from scipy import stats                                                                                                \n",
    "import datetime                                                                                                        \n",
    "from matplotlib import pyplot as plt\n",
    "import seaborn as sns\n",
    "from sklearn.preprocessing import LabelEncoder                                                                         \n",
    "from sklearn.model_selection import train_test_split                                                                   \n",
    "from sklearn import svm                                                                                                \n",
    "from sklearn.metrics import classification_report,confusion_matrix,accuracy_score                                      \n",
    "import sklearn.decomposition    "
   ]
  },
  {
   "cell_type": "code",
   "execution_count": 2,
   "metadata": {},
   "outputs": [],
   "source": [
    "# functions\n",
    "def find_peak_freq_power(psd,freqs,low,high):                                                                          \n",
    "    # find the peak frequency and power of a particular frequency band [low>= freq <= high]                            \n",
    "    idx_band = np.logical_and(freqs >= low, freqs <= high)                                                             \n",
    "    freq_band = freqs[idx_band]                                                                                        \n",
    "    psd_band = psd[idx_band]                                                                                           \n",
    "    ipeak_psd = np.where(psd_band>=np.max(psd_band))[0][0]                                                             \n",
    "    peak_freq = freq_band[ipeak_psd]                                                                                   \n",
    "    peak_psd = psd_band[ipeak_psd]                                                                                          \n",
    "    return(peak_freq,peak_psd)                                                                                         \n",
    "                                                                                                                       \n",
    "def compute_band_power(Sxx,freqs,bands):                                                                               \n",
    "    # Sxx: a matrix of power spectrogram per time [nfreqs,ntimebins]                                                   \n",
    "    # bands: a list containing the range for each frequency band                                                       \n",
    "    # fregs: list of frequencies                                                                                       \n",
    "    abspower = np.zeros((Sxx.shape[1],len(bands)))                                                                     \n",
    "    for i in np.arange(0,Sxx.shape[1]):                                                                                \n",
    "        for j in np.arange(0,len(bands)):                                                                              \n",
    "            low = bands[j][0]                                                                                          \n",
    "            high = bands[j][1]                                                                                         \n",
    "            idx_range = np.logical_and(freqs >= low, freqs <= high)                                                    \n",
    "            abspower[i,j] = simps(Sxx[idx_range,i],dx = freqs[1]-freqs[0])                                             \n",
    "    return(abspower)\n",
    "\n",
    "def compute_1samp_t_test_of_across_time(power):                                                                        \n",
    "    # compute t_test across time for each frequency band                                                               \n",
    "    means = np.zeros((power.shape[1]))                                                                                 \n",
    "    stds = np.zeros((power.shape[1]))                                                                                  \n",
    "    pvalues = np.zeros((power.shape[1]))                                                                               \n",
    "                                                                                                                       \n",
    "    for i in np.arange(0,power.shape[1]):                                                                              \n",
    "        means[i] = power[:,i].mean()                                                                                   \n",
    "        stds[i] = power[:,i].std()                                                                                     \n",
    "        tvalue,pvalues[i] = stats.ttest_1samp(power[:,i],means[i])                                                     \n",
    "                                                                                                                       \n",
    "    return(pvalues)   \n",
    "\n",
    "def compute_statistics(power):                                                                                         \n",
    "    # compute t_test across time for each frequency band                                                               \n",
    "    means = np.zeros((power.shape[1]))                                                                                 \n",
    "    stds = np.zeros((power.shape[1]))                                                                                  \n",
    "                                                                                                                       \n",
    "    for i in np.arange(0,power.shape[1]):                                                                              \n",
    "        means[i] = power[:,i].mean()                                                                                   \n",
    "        stds[i] = power[:,i].std()                                                                                     \n",
    "                                                                                                                       \n",
    "    return(means,stds)                                                                                                 \n",
    "                                                                                                                       \n",
    "def compute_t_test_bw_groups_across_time(power1,power2):                                                               \n",
    "    # compute t_test between groups for each frequency band                                                            \n",
    "    pvalues = np.zeros((power1.shape[1]))                                                                              \n",
    "    for i in np.arange(0,power1.shape[1]):                                                                             \n",
    "        tvalue,pvalues[i] = stats.ttest_ind(power1[:,i],power2[:,i],equal_var=False)                                   \n",
    "    return(pvalues) \n",
    "\n",
    "def butter_bandpass(lowcut, highcut, fs, order=5):                                                                     \n",
    "    nyq = 0.5 * fs                                                                                                     \n",
    "    low = lowcut / nyq                                                                                                 \n",
    "    high = highcut / nyq                                                                                               \n",
    "    b, a = signal.butter(order, [low, high], btype='band')                                                             \n",
    "    return b, a                                                                                                        \n",
    "                                                                                                                       \n",
    "                                                                                                                       \n",
    "def butter_bandpass_filter(data, lowcut, highcut, fs, order=5):                                                        \n",
    "    b, a = butter_bandpass(lowcut, highcut, fs, order=order)                                                           \n",
    "    y = signal.lfilter(b, a, data)                                                                                     \n",
    "    return y   "
   ]
  },
  {
   "cell_type": "code",
   "execution_count": 3,
   "metadata": {},
   "outputs": [],
   "source": [
    "datapath = \"/Users/macbookair/goofy/data/machine_learning/neurovine/\"                                                  \n",
    "aa_name = \"AA_EEG_data.csv\"                                                                                            \n",
    "bb_name = \"BB_EEG_data.csv\"                                                                                            \n",
    "adata = pd.read_csv(os.path.join(datapath,aa_name))                                                                    \n",
    "bdata = pd.read_csv(os.path.join(datapath,bb_name))                                                                    \n",
    "channels = [\"AF7\",\"FPz\",\"AF8\"]                                                                                         \n",
    "channel = channels[2]                                                                                                  \n",
    "# create time axis                                                                                                     \n",
    "si = 1/200                                                                                                             \n",
    "adata[\"t\"] = np.arange(0,(len(adata))*si,si)                                                                           \n",
    "bdata[\"t\"] = np.arange(0,(len(bdata))*si,si)                                                                   "
   ]
  },
  {
   "cell_type": "code",
   "execution_count": 4,
   "metadata": {},
   "outputs": [],
   "source": [
    "# skip the initial 5 sec \n",
    "t0 = 5                                                                                                                 \n",
    "fs = 200                                                                                                               \n",
    "lowcut = 0.8                                                                                                           \n",
    "highcut = 40                                                                                                           \n",
    "                                                                                                                       \n",
    "ay = adata[channel]                                                                                                    \n",
    "by = bdata[channel]                                                                                                    \n",
    "ayf = butter_bandpass_filter(ay,lowcut,highcut,fs)                                                                     \n",
    "byf = butter_bandpass_filter(by,lowcut,highcut,fs)                                                                     \n",
    "ayf2 = ayf[adata[\"t\"]>t0]                                                                                              \n",
    "byf2 = byf[bdata[\"t\"]>t0]"
   ]
  },
  {
   "cell_type": "code",
   "execution_count": 5,
   "metadata": {},
   "outputs": [
    {
     "data": {
      "text/plain": [
       "[<matplotlib.lines.Line2D at 0x11b0e5be0>]"
      ]
     },
     "execution_count": 5,
     "metadata": {},
     "output_type": "execute_result"
    },
    {
     "data": {
      "image/png": "[encoded data removed]",
      "text/plain": [
       "<Figure size 432x288 with 2 Axes>"
      ]
     },
     "metadata": {
      "needs_background": "light"
     },
     "output_type": "display_data"
    }
   ],
   "source": [
    "# plot filtered data\n",
    "fh = plt.figure()                                                                                                      \n",
    "ah1 = fh.add_subplot(211) \n",
    "\n",
    "ah1.plot(adata[\"t\"],adata[channel])                                                                               \n",
    "ah2 = fh.add_subplot(212,sharex=ah1)                                                                                   \n",
    "ah2.plot(bdata[\"t\"],bdata[channel]) \n",
    "\n",
    "#ah1.plot(adata[\"t\"][adata[\"t\"]>t0],ayf2)                                                                               \n",
    "#ah2 = fh.add_subplot(212,sharex=ah1)                                                                                   \n",
    "#ah2.plot(bdata[\"t\"][bdata[\"t\"]>t0],byf2)      "
   ]
  },
  {
   "cell_type": "code",
   "execution_count": 6,
   "metadata": {},
   "outputs": [],
   "source": [
    "# compute PSDs for channel \"AF8\"\n",
    "freqs,a_psd = signal.welch(ayf2,fs=200,nperseg=200,noverlap=100,nfft=200,detrend=False,return_onesided=True)           \n",
    "freqs,b_psd = signal.welch(byf2,fs=200,nperseg=200,noverlap=100,nfft=200,detrend=False,return_onesided=True) \n",
    "# crop to the required frequency bands\n",
    "a_psd = a_psd[(freqs>=1) & (freqs <=30)]                                                                               \n",
    "b_psd = b_psd[(freqs>=1) & (freqs <=30)]                                                                               \n",
    "freqs = freqs[(freqs>=1) & (freqs <=30)]                                                                               \n",
    "psds = np.concatenate((a_psd[:,None],b_psd[:,None]),axis=1)                                                            \n"
   ]
  },
  {
   "cell_type": "code",
   "execution_count": 7,
   "metadata": {},
   "outputs": [],
   "source": [
    "# define features: frequency band                                                                                       \n",
    "delta_range = [1,3]                                                                                                    \n",
    "theta_range = [4,6]                                                                                                    \n",
    "alpha_range = [7,12]                                                                                                   \n",
    "beta_range = [13,30]                                                                                                   \n",
    "full_range = [1,30]                                                                                                    \n",
    "all_ranges = [delta_range,theta_range,alpha_range,beta_range,full_range] "
   ]
  },
  {
   "cell_type": "code",
   "execution_count": 8,
   "metadata": {
    "scrolled": true
   },
   "outputs": [
    {
     "data": {
      "image/png": "[encoded data removed]",
      "text/plain": [
       "<Figure size 432x288 with 1 Axes>"
      ]
     },
     "metadata": {
      "needs_background": "light"
     },
     "output_type": "display_data"
    }
   ],
   "source": [
    "# plot PSD of AA and BB signal for electrode \"AF8\"\n",
    "fh2 = plt.figure()                                                                                                      \n",
    "ah1 = fh2.add_subplot(111)                                                                                              \n",
    "ah1.plot(freqs,np.log10(psds[:,0])*10,'-o')                                                                            \n",
    "# ah1.plot(afreqs,np.log10(aSxx.mean(axis=-1))/10,'-')                                                                 \n",
    "ah1.plot(freqs,np.log10(psds[:,1])*10,'-o')                                                                            \n",
    "ah1.set_xlabel(\"Frequency (Hz)\",fontsize=16)                                                                           \n",
    "# ah1.set_ylabel(\"Power spectral density ($\\mu$V$^2$/Hz)\",fontsize=16)                                                 \n",
    "ah1.set_ylabel(\"Power spectral density (dB/Hz)\",fontsize=16)                                                           \n",
    "ah1.set_title(\"\".join((\"Periodogram for signal: \",channel)),fontsize = 18)      \n",
    "plt.tight_layout()                                                                                                     \n",
    "ah1.legend([\"AA\",\"BB\"],fontsize=16)  \n",
    "ah1.set_xlim([0,31])                                                                                                   \n",
    "xticks = [0,5,10,15,20,25,30]                                                                                          \n",
    "ah1.set_xticks(xticks)                                                                                                 \n",
    "ah1.set_xticklabels(xticks,fontsize=14)                                                                                \n",
    "ah1.set_ylim([-10,20])                                                                                                 \n",
    "yticks = [-10,-5,0,5,10,15,20]                                                                                         \n",
    "ah1.set_yticks(yticks)                                                                                                 \n",
    "ah1.set_yticklabels(yticks,fontsize=14) \n",
    "# save figure as png                                                                                                   \n",
    "fname_fig_psd = \"neurovine_plot_psd_aa_bb.png\"                                                                         \n",
    "fh2.savefig(os.path.join(datapath,fname_fig_psd),dpi=300)                                                              \n",
    "plt.show() "
   ]
  },
  {
   "cell_type": "code",
   "execution_count": 9,
   "metadata": {},
   "outputs": [
    {
     "name": "stdout",
     "output_type": "stream",
     "text": [
      "Channel AA -  Alpha peak frequency: 8.0, PSD: 8.983730470905602 dB\n",
      "Channel BB -  Alpha peak frequency: 7.0, PSD: 5.735639257774059 dB\n"
     ]
    }
   ],
   "source": [
    "# find alpha peak frequency and PSD value for AA and BB                                                                \n",
    "a_alpha_peak_freq, a_alpha_peak_psd = find_peak_freq_power(a_psd,freqs,alpha_range[0],alpha_range[1]) \n",
    "b_alpha_peak_freq, b_alpha_peak_psd = find_peak_freq_power(b_psd,freqs,alpha_range[0],alpha_range[1]) \n",
    "print(\"Channel AA -  Alpha peak frequency: {}, PSD: {} dB\".format (a_alpha_peak_freq,np.log10(a_alpha_peak_psd)*10))     \n",
    "print(\"Channel BB -  Alpha peak frequency: {}, PSD: {} dB\".format (b_alpha_peak_freq,np.log10(b_alpha_peak_psd)*10))      "
   ]
  },
  {
   "cell_type": "code",
   "execution_count": 10,
   "metadata": {},
   "outputs": [],
   "source": [
    "# compute PSDs for overlapping 1 sec windows                                                                                                                      \n",
    "afreqs,at,aSxx = signal.spectrogram(ayf2,fs=200,nperseg=200,noverlap=100,nfft=200,detrend=False,return_onesided=True)  \n",
    "bfreqs,bt,bSxx = signal.spectrogram(byf2,fs=200,nperseg=200,noverlap=100,nfft=200,detrend=False,return_onesided=True)  \n",
    "Sxx = [aSxx,bSxx]  \n",
    "a_abspower = compute_band_power(aSxx,afreqs,all_ranges)                                                                \n",
    "b_abspower = compute_band_power(bSxx,bfreqs,all_ranges)  \n",
    "# compute statistics and t_tests\n",
    "a_avgs,a_stds = compute_statistics(a_abspower)                                                                         \n",
    "b_avgs,b_stds = compute_statistics(b_abspower)   \n",
    "# compute t-tests                                                                                                      \n",
    "p_values = compute_t_test_bw_groups_across_time(a_abspower,b_abspower)    "
   ]
  },
  {
   "cell_type": "code",
   "execution_count": 11,
   "metadata": {},
   "outputs": [
    {
     "name": "stdout",
     "output_type": "stream",
     "text": [
      "Spreadsheet of results for signal AF8\n",
      "\n",
      "  cat feature         avg         std          pval  sig\n",
      "0  AA   delta   13.219192   78.875765  1.364100e-14  1.0\n",
      "1  AA   theta    7.297748   29.986825  8.005189e-04  1.0\n",
      "2  AA   alpha   22.705433   16.950559  1.537640e-21  1.0\n",
      "3  AA    beta    7.576340    3.807961  3.618152e-14  1.0\n",
      "4  AA   total   58.272205  120.898796  1.262018e-08  1.0\n",
      "5  BB   delta   64.542331  101.740882  0.000000e+00  0.0\n",
      "6  BB   theta   14.416646   22.101013  0.000000e+00  0.0\n",
      "7  BB   alpha   10.522089   13.080305  0.000000e+00  0.0\n",
      "8  BB    beta    5.461183    2.856487  0.000000e+00  0.0\n",
      "9  BB   total  115.237790  152.373436  0.000000e+00  0.0\n"
     ]
    }
   ],
   "source": [
    "# create dataframe for statistics computed for signal \"AF8\"                                                                                                 \n",
    "labels = np.repeat([\"AA\",\"BB\"],len(all_ranges))                                                                        \n",
    "features = np.tile([\"delta\",\"theta\",\"alpha\",\"beta\",\"total\"],2)                                                         \n",
    "avgs = np.concatenate((a_avgs,b_avgs))                                                                                 \n",
    "stds = np.concatenate((a_stds,b_stds))                                                                                 \n",
    "pvals = np.concatenate((p_values,np.zeros(len(all_ranges))))                                                           \n",
    "sigs = np.concatenate((p_values<0.05,np.zeros(len(all_ranges))))                                                       \n",
    "data = {\"cat\":labels,\"feature\":features,\"avg\":avgs,\"std\":stds,\"pval\":pvals,\"sig\":sigs}                                    \n",
    "df = pd.DataFrame(data) \n",
    "print(\"Spreadsheet of results for signal AF8\\n\")\n",
    "print(df) \n",
    "# save the results into a spread sheet                                                                                 \n",
    "fname_excelsheet = \"neurovine_results_statistics_t_test_af8.xlsx\"                                                      \n",
    "df.to_excel(os.path.join(datapath,fname_excelsheet),sheet_name=\"AF8\")    "
   ]
  },
  {
   "cell_type": "code",
   "execution_count": 89,
   "metadata": {},
   "outputs": [
    {
     "name": "stdout",
     "output_type": "stream",
     "text": [
      "len AA: 60\n",
      "len BB: 60\n",
      "Mean: [-5.92118946e-17  1.77635684e-16], std: [1. 1.]\n"
     ]
    }
   ],
   "source": [
    "# create dataframe for machine learning   \n",
    "tmax = 30\n",
    "data = np.concatenate((a_abspower[at<=tmax,:],b_abspower[bt<=tmax,:]),axis=0)                                              \n",
    "labels = np.concatenate((np.repeat(\"AA\",len(at[at<=tmax])),np.repeat(\"BB\",len(bt[bt<=tmax]))),axis=0)                      \n",
    "df = pd.DataFrame({\"cat\":labels,\"delta\":data[:,0],\"theta\":data[:,1],\"alpha\":data[:,2],\"beta\":data[:,3],\"total\":data[:,\\\n",
    "-1]})  \n",
    "print(\"len AA: {}\".format(len(df[df[\"cat\"]==\"AA\"])))\n",
    "print(\"len BB: {}\".format(len(df[df[\"cat\"]==\"BB\"])))\n",
    "#                                                                                                                      \n",
    "# print(df.head())                                                                                                     \n",
    "# convert categorical string lables to numbers                                                                         \n",
    "le = LabelEncoder()                                                                                                    \n",
    "df['labels'] = le.fit_transform(df['cat'])                                                                             \n",
    "#X = df[[\"delta\",\"theta\",\"alpha\",\"beta\",\"total\"]].to_numpy()                                                          \n",
    "X = df[[\"delta\",\"beta\"]].to_numpy()                                                                                   \n",
    "# X = df[[\"theta\",\"alpha\"]].to_numpy()                                                                                 \n",
    "# X = df[[\"delta\",\"theta\",\"alpha\",\"beta\"]].to_numpy()                                                                  \n",
    "y = df[\"labels\"].to_numpy()                                                                                            \n",
    "# data normalization: mean = 0 & std = 1                                                                               \n",
    "X = (X - X.mean(axis=0))/X.std(axis=0)                                                                                 \n",
    "print(\"Mean: {}, std: {}\".format(X.mean(axis=0),X.std(axis=0))) "
   ]
  },
  {
   "cell_type": "code",
   "execution_count": 90,
   "metadata": {},
   "outputs": [
    {
     "name": "stdout",
     "output_type": "stream",
     "text": [
      "(120, 4)\n",
      "[6.10805111e+03 2.30503858e+02 1.38103766e+02 4.37821811e+00]\n",
      "[9.42449666e-01 3.55658917e-02 2.13088996e-02 6.75542841e-04]\n"
     ]
    }
   ],
   "source": [
    "# dimensionality reduction  \n",
    "X = df[[\"delta\",\"theta\",\"alpha\",\"beta\"]].to_numpy()           \n",
    "pca = sklearn.decomposition.PCA().fit(X)                                                                               \n",
    "print(pca.transform(X).shape)                                                                                          \n",
    "print(pca.explained_variance_)                                                                                         \n",
    "print(pca.explained_variance_ratio_)                                                                                   \n",
    "X = pca.transform(X)[:,:2]      # select the first two components  "
   ]
  },
  {
   "cell_type": "code",
   "execution_count": 91,
   "metadata": {},
   "outputs": [
    {
     "name": "stdout",
     "output_type": "stream",
     "text": [
      "(96, 2) (96,)\n",
      "(24, 2) (24,)\n"
     ]
    }
   ],
   "source": [
    "# split data into test and training                                                                                    \n",
    "X_train,X_test,y_train,y_test = train_test_split(X,y,test_size=0.2)                                                    \n",
    "print(X_train.shape,y_train.shape) \n",
    "print(X_test.shape,y_test.shape) "
   ]
  },
  {
   "cell_type": "code",
   "execution_count": 92,
   "metadata": {},
   "outputs": [
    {
     "name": "stdout",
     "output_type": "stream",
     "text": [
      "24\n"
     ]
    }
   ],
   "source": [
    "# fit using SVC from sklearn.svm class                                                                                 \n",
    "svc = svm.SVC(kernel='linear', C=1).fit(X, y)                                                                          \n",
    "#svc = svm.SVC(kernel='logistic', C=1).fit(X, y)                                                                      \n",
    "#svc = svm.SVC(kernel='poly', degree=3, C=1)                                                                          \n",
    "#svc = svm.SVC(kernel='rbf', gamma=0.7, C=1) # Gaussian kernel                                                        \n",
    "# svc = svm.LinearSVC(C=C)                                                                                             \n",
    "svc.fit(X_train,y_train)                                                                                               \n",
    "y_pred = svc.predict(X_test) \n",
    "print(len(y_pred))"
   ]
  },
  {
   "cell_type": "code",
   "execution_count": 93,
   "metadata": {},
   "outputs": [
    {
     "name": "stdout",
     "output_type": "stream",
     "text": [
      "Classification accuracy: 0.8333333333333334\n",
      "Confusion matrix \n",
      " [[12  4]\n",
      " [ 0  8]]\n",
      "Classification report \n",
      "               precision    recall  f1-score   support\n",
      "\n",
      "           0       1.00      0.75      0.86        16\n",
      "           1       0.67      1.00      0.80         8\n",
      "\n",
      "    accuracy                           0.83        24\n",
      "   macro avg       0.83      0.88      0.83        24\n",
      "weighted avg       0.89      0.83      0.84        24\n",
      "\n",
      "Accuracy:  0.8333333333333334\n",
      "precision :  1.0\n",
      "Recall :  0.75\n"
     ]
    }
   ],
   "source": [
    "# Evaluate the model performance\n",
    "print(\"Classification accuracy: {}\".format(accuracy_score(y_test,y_pred)))                                             \n",
    "print(\"Confusion matrix \\n {}\".format(confusion_matrix(y_test,y_pred)))                                                \n",
    "print(\"Classification report \\n {}\".format(classification_report(y_test,y_pred))) \n",
    "CM = confusion_matrix(y_test,y_pred)\n",
    "print(\"Accuracy: \",CM.diagonal().sum()/CM.ravel().sum())\n",
    "print(\"precision : \",CM[0,0]/CM[:,0].sum())\n",
    "print(\"Recall : \",CM[0,0]/CM[0,:].sum())"
   ]
  },
  {
   "cell_type": "code",
   "execution_count": null,
   "metadata": {},
   "outputs": [],
   "source": []
  },
  {
   "cell_type": "code",
   "execution_count": 33,
   "metadata": {},
   "outputs": [
    {
     "data": {
      "text/plain": [
       "<matplotlib.collections.PathCollection at 0x12b935bb0>"
      ]
     },
     "execution_count": 33,
     "metadata": {},
     "output_type": "execute_result"
    },
    {
     "data": {
      "image/png": "[encoded data removed]",
      "text/plain": [
       "<Figure size 720x720 with 1 Axes>"
      ]
     },
     "metadata": {
      "needs_background": "light"
     },
     "output_type": "display_data"
    }
   ],
   "source": [
    "# create a mesh to plot                                                                                             \n",
    "h = 0.2                        # step size in mesh  \n",
    "x_min, x_max = X[:, 0].min() - 1, X[:, 0].max() + 1                                                                    \n",
    "y_min, y_max = X[:, 1].min() - 1, X[:, 1].max() + 1                                                                    \n",
    "xx, yy = np.meshgrid(np.arange(x_min, x_max, h),np.arange(y_min, y_max, h))    \n",
    "Z = svc.predict(np.concatenate((xx.ravel()[:,None],yy.ravel()[:,None]),axis=1))  \n",
    "fh = plt.figure(figsize=(10,10))                                                                                                    \n",
    "ah = fh.add_subplot(111) \n",
    "ah.contourf(xx, yy, Z.reshape(xx.shape), cmap=plt.cm.coolwarm, alpha=0.8)                                             \n",
    "ah.scatter(X[:, 0], X[:, 1], c=y, cmap=plt.cm.coolwarm)                                                               \n",
    "# plt.show() "
   ]
  },
  {
   "cell_type": "code",
   "execution_count": 34,
   "metadata": {},
   "outputs": [
    {
     "name": "stdout",
     "output_type": "stream",
     "text": [
      "[[1.         0.         0.         0.        ]\n",
      " [0.86693935 1.         0.         0.        ]\n",
      " [0.04959753 0.14250876 1.         0.        ]\n",
      " [0.27837968 0.41355799 0.38947111 1.        ]]\n",
      "[[ 1.          0.          0.          0.        ]\n",
      " [ 0.75307227  1.          0.          0.        ]\n",
      " [ 0.66185762  0.80564547  1.          0.        ]\n",
      " [-0.05736825  0.01809821  0.17161341  1.        ]]\n"
     ]
    },
    {
     "data": {
      "text/plain": [
       "Text(0.5, 1.0, 'BB')"
      ]
     },
     "execution_count": 34,
     "metadata": {},
     "output_type": "execute_result"
    },
    {
     "data": {
      "image/png": "[encoded data removed]",
      "text/plain": [
       "<Figure size 432x288 with 4 Axes>"
      ]
     },
     "metadata": {
      "needs_background": "light"
     },
     "output_type": "display_data"
    }
   ],
   "source": [
    "# correlation analysis between eeg features within groups\n",
    "aa_corrmat = df[df[\"cat\"]==\"AA\"].loc[:,\"delta\":\"beta\"].corr()  \n",
    "bb_corrmat = df[df[\"cat\"]==\"BB\"].loc[:,\"delta\":\"beta\"].corr()                                                                                   \n",
    "print(np.tril(aa_corrmat))\n",
    "print(np.tril(bb_corrmat))\n",
    "# visualize correlations using a hearmap  \n",
    "f, (ah1, ah2) = plt.subplots(1,2)\n",
    "sns.heatmap(aa_corrmat,vmin=-1,vmax=1,center=0.5,cmap = \"hot\",square=True,ax=ah1) \n",
    "sns.heatmap(bb_corrmat,vmin=-1,vmax=1,center=0.5,cmap = \"hot\",square=True,ax=ah2) \n",
    "#ah1.invert_xaxis()\n",
    "#ah2.invert_xaxis()\n",
    "ah1.set_title(\"AA\")\n",
    "ah2.set_title(\"BB\")\n",
    "#ah=fh.add_subplot(122)\n",
    "#sns.heatmap(bb_corrmat,vmin=-1,vmax=1,center=0.5,cmap = \"hot\",square=True,ax=ah)\n",
    "#plt.show()   \n",
    "# print(corrmat)                  "
   ]
  },
  {
   "cell_type": "code",
   "execution_count": 37,
   "metadata": {},
   "outputs": [
    {
     "name": "stdout",
     "output_type": "stream",
     "text": [
      "       delta     theta      alpha      beta\n",
      "0   4.675827  3.873090   9.461194  6.218941\n",
      "1  18.430678  1.642996  11.537113  5.603310\n",
      "2  12.403906  2.487613   8.017905  6.468806\n",
      "3  10.874795  4.239660  15.059392  6.725211\n",
      "4  17.488609  5.086689  12.165603  4.540330\n",
      "200 200\n",
      "        delta      theta      alpha      beta\n",
      "0  156.239431  43.088371  20.616302  4.960240\n",
      "1   37.248386   4.815767   2.207861  4.077826\n",
      "2   14.135671   1.143521   3.129286  5.059145\n",
      "3   16.134867   1.008883   5.558303  5.537567\n",
      "4    6.533011   0.578939   3.738529  3.988689\n",
      "delta   -0.033891\n",
      "theta    0.088410\n",
      "alpha    0.013612\n",
      "beta    -0.067669\n",
      "dtype: float64\n"
     ]
    }
   ],
   "source": [
    "# correlation analysis of eeg features between groups\n",
    "adf = df[df[\"cat\"]==\"AA\"][[\"delta\",\"theta\",\"alpha\",\"beta\"]].reset_index(drop=True)\n",
    "bdf = df.loc[df[\"cat\"]==\"BB\"][[\"delta\",\"theta\",\"alpha\",\"beta\"]].reset_index(drop=True)\n",
    "print(adf[0:5])\n",
    "print(len(adf),len(bdf))\n",
    "print(bdf[0:5])\n",
    "#print(adf[:100].corrwith(bdf[:100],axis=0))\n",
    "ab_corrmat = adf.corrwith(bdf,axis=0)\n",
    "print(ab_corrmat)"
   ]
  }
 ],
 "metadata": {
  "kernelspec": {
   "display_name": "Python 3",
   "language": "python",
   "name": "python3"
  },
  "language_info": {
   "codemirror_mode": {
    "name": "ipython",
    "version": 3
   },
   "file_extension": ".py",
   "mimetype": "text/x-python",
   "name": "python",
   "nbconvert_exporter": "python",
   "pygments_lexer": "ipython3",
   "version": "3.6.12"
  }
 },
 "nbformat": 4,
 "nbformat_minor": 4
}
